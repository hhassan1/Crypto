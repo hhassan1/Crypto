{
 "cells": [
  {
   "cell_type": "code",
   "execution_count": 2,
   "metadata": {
    "collapsed": false
   },
   "outputs": [],
   "source": [
    "from cryptomethods.cesar import Cesar\n",
    "from cryptomethods.railfence import RailFence\n",
    "from cryptomethods.vigenere import Vigenere"
   ]
  },
  {
   "cell_type": "code",
   "execution_count": 3,
   "metadata": {
    "collapsed": false
   },
   "outputs": [],
   "source": [
    "from communications.client import Client\n",
    "from communications.criptouser import CryptoUser\n",
    "from communications.server import Server"
   ]
  },
  {
   "cell_type": "code",
   "execution_count": 4,
   "metadata": {
    "collapsed": false
   },
   "outputs": [],
   "source": [
    "S = Server()\n",
    "S.start()\n",
    "p = S.address_port()[1]"
   ]
  },
  {
   "cell_type": "code",
   "execution_count": 5,
   "metadata": {
    "collapsed": false
   },
   "outputs": [
    {
     "name": "stdout",
     "output_type": "stream",
     "text": [
      "Cliente conectado:  {u'name': u'alice'}\n",
      "Cliente conectado:  {u'name': u'bob'}\n"
     ]
    }
   ],
   "source": [
    "crypto = Vigenere('ALOHA')\n",
    "alice = CryptoUser(crypto, Client('localhost',p,'alice'))\n",
    "bob = CryptoUser(crypto, Client('localhost',p,'bob'))\n",
    "alice.connect()\n",
    "bob.connect()"
   ]
  },
  {
   "cell_type": "code",
   "execution_count": 6,
   "metadata": {
    "collapsed": false
   },
   "outputs": [
    {
     "name": "stdout",
     "output_type": "stream",
     "text": [
      "Datos recibidos de  alice :  {u'source': u'alice', u'destination': u'bob', u'data': [u'H', u'Z', u'Z', u'H']}\n"
     ]
    }
   ],
   "source": [
    "alice.send('hola','bob')"
   ]
  },
  {
   "cell_type": "code",
   "execution_count": 7,
   "metadata": {
    "collapsed": false
   },
   "outputs": [
    {
     "name": "stdout",
     "output_type": "stream",
     "text": [
      "{u'source': u'alice', u'destination': u'bob', u'data': ['H', 'O', 'L', 'A']}\n"
     ]
    }
   ],
   "source": [
    "msg = bob.receive()\n",
    "print msg"
   ]
  },
  {
   "cell_type": "code",
   "execution_count": null,
   "metadata": {
    "collapsed": true
   },
   "outputs": [],
   "source": []
  },
  {
   "cell_type": "code",
   "execution_count": null,
   "metadata": {
    "collapsed": true
   },
   "outputs": [],
   "source": []
  }
 ],
 "metadata": {
  "kernelspec": {
   "display_name": "Python 2",
   "language": "python",
   "name": "python2"
  },
  "language_info": {
   "codemirror_mode": {
    "name": "ipython",
    "version": 2
   },
   "file_extension": ".py",
   "mimetype": "text/x-python",
   "name": "python",
   "nbconvert_exporter": "python",
   "pygments_lexer": "ipython2",
   "version": "2.7.11"
  }
 },
 "nbformat": 4,
 "nbformat_minor": 0
}
